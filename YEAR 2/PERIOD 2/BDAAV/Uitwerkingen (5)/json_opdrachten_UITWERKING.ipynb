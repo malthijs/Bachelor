{
 "cells": [
  {
   "cell_type": "markdown",
   "metadata": {},
   "source": [
    "\n",
    "## SARS-COV-2 subtypes\n",
    "\n",
    "### Vraag 1.\n",
    "\n",
    "In het bestand `sars-cov-2-reports.json` staan 10.000 reports van sars-cov-2 isolaten. Selecteer alle subtypes die meer dan 100 keer voorkomen in deze dataset, en plot voor de gevonden subtypes de hoeveelheid samples per subtype in een barplot. Het subtype kan je vinden in het veld `pangolin_classification`.\n",
    "\n",
    "*bron: NCBI. Gedownload met het commando `datasets summary virus genome taxon sars-cov-2 --limit 10000`*\n",
    "\n"
   ]
  },
  {
   "cell_type": "code",
   "execution_count": 19,
   "metadata": {},
   "outputs": [
    {
     "data": {
      "text/plain": [
       "{'accession': 'BS001684.1',\n",
       " 'completeness': 'COMPLETE',\n",
       " 'host': {'lineage': [{'name': 'cellular organisms', 'tax_id': 131567},\n",
       "   {'name': 'Eukaryota', 'tax_id': 2759},\n",
       "   {'name': 'Opisthokonta', 'tax_id': 33154},\n",
       "   {'name': 'Metazoa', 'tax_id': 33208},\n",
       "   {'name': 'Eumetazoa', 'tax_id': 6072},\n",
       "   {'name': 'Bilateria', 'tax_id': 33213},\n",
       "   {'name': 'Deuterostomia', 'tax_id': 33511},\n",
       "   {'name': 'Chordata', 'tax_id': 7711},\n",
       "   {'name': 'Craniata', 'tax_id': 89593},\n",
       "   {'name': 'Vertebrata', 'tax_id': 7742},\n",
       "   {'name': 'Gnathostomata', 'tax_id': 7776},\n",
       "   {'name': 'Teleostomi', 'tax_id': 117570},\n",
       "   {'name': 'Euteleostomi', 'tax_id': 117571},\n",
       "   {'name': 'Sarcopterygii', 'tax_id': 8287},\n",
       "   {'name': 'Dipnotetrapodomorpha', 'tax_id': 1338369},\n",
       "   {'name': 'Tetrapoda', 'tax_id': 32523},\n",
       "   {'name': 'Amniota', 'tax_id': 32524},\n",
       "   {'name': 'Mammalia', 'tax_id': 40674},\n",
       "   {'name': 'Theria', 'tax_id': 32525},\n",
       "   {'name': 'Eutheria', 'tax_id': 9347},\n",
       "   {'name': 'Boreoeutheria', 'tax_id': 1437010},\n",
       "   {'name': 'Euarchontoglires', 'tax_id': 314146},\n",
       "   {'name': 'Primates', 'tax_id': 9443},\n",
       "   {'name': 'Haplorrhini', 'tax_id': 376913},\n",
       "   {'name': 'Simiiformes', 'tax_id': 314293},\n",
       "   {'name': 'Catarrhini', 'tax_id': 9526},\n",
       "   {'name': 'Hominoidea', 'tax_id': 314295},\n",
       "   {'name': 'Hominidae', 'tax_id': 9604},\n",
       "   {'name': 'Homininae', 'tax_id': 207598},\n",
       "   {'name': 'Homo', 'tax_id': 9605},\n",
       "   {'name': 'Homo sapiens', 'tax_id': 9606}],\n",
       "  'organism_name': 'Homo sapiens',\n",
       "  'tax_id': 9606},\n",
       " 'is_annotated': True,\n",
       " 'isolate': {'collection_date': '2021-08-10',\n",
       "  'name': 'hCoV-19/Japan/SZ-NIG-Y211430/2021',\n",
       "  'source': 'saliva, oronasopharynx'},\n",
       " 'length': 29800,\n",
       " 'location': {'geographic_location': 'Japan:Shizuoka, east',\n",
       "  'geographic_region': 'Asia'},\n",
       " 'nucleotide': {'sequence_hash': 'C5EDD4A7'},\n",
       " 'protein_count': 12,\n",
       " 'release_date': '2022-01-22T00:00:00Z',\n",
       " 'source_database': 'GenBank',\n",
       " 'submitter': {'affiliation': 'Mishima, Shizuoka 411-8540',\n",
       "  'country': 'Japan',\n",
       "  'names': ['Nagaoka,H.',\n",
       "   'Arita,Y.',\n",
       "   'Ishigami,K.',\n",
       "   'Mori,H.',\n",
       "   'Tanizawa,Y.',\n",
       "   'Asano,S.',\n",
       "   'Fujisawa,T.',\n",
       "   'Arita,M.',\n",
       "   'Kurokawa,K.',\n",
       "   'Mitsunaga,S.',\n",
       "   'Toyoda,A.',\n",
       "   'Inoue,I.']},\n",
       " 'update_date': '2022-01-22T00:00:00Z',\n",
       " 'virus': {'lineage': [{'name': 'Viruses', 'tax_id': 10239},\n",
       "   {'name': 'Riboviria', 'tax_id': 2559587},\n",
       "   {'name': 'Orthornavirae', 'tax_id': 2732396},\n",
       "   {'name': 'Pisuviricota', 'tax_id': 2732408},\n",
       "   {'name': 'Pisoniviricetes', 'tax_id': 2732506},\n",
       "   {'name': 'Nidovirales', 'tax_id': 76804},\n",
       "   {'name': 'Cornidovirineae', 'tax_id': 2499399},\n",
       "   {'name': 'Coronaviridae', 'tax_id': 11118},\n",
       "   {'name': 'Orthocoronavirinae', 'tax_id': 2501931},\n",
       "   {'name': 'Betacoronavirus', 'tax_id': 694002},\n",
       "   {'name': 'Sarbecovirus', 'tax_id': 2509511},\n",
       "   {'name': 'Severe acute respiratory syndrome-related coronavirus',\n",
       "    'tax_id': 694009},\n",
       "   {'name': 'Severe acute respiratory syndrome coronavirus 2',\n",
       "    'tax_id': 2697049}],\n",
       "  'organism_name': 'Severe acute respiratory syndrome coronavirus 2',\n",
       "  'pangolin_classification': 'AY.29',\n",
       "  'tax_id': 2697049}}"
      ]
     },
     "execution_count": 19,
     "metadata": {},
     "output_type": "execute_result"
    }
   ],
   "source": [
    "import pandas as pd\n",
    "import json\n",
    "\n",
    "with open(\"sars-cov-2-reports.json\") as fh:\n",
    "    sarscov2 = json.load(fh)\n",
    "\n",
    "sarscov2[0]"
   ]
  },
  {
   "cell_type": "code",
   "execution_count": 20,
   "metadata": {},
   "outputs": [
    {
     "data": {
      "text/html": [
       "<div>\n",
       "<style scoped>\n",
       "    .dataframe tbody tr th:only-of-type {\n",
       "        vertical-align: middle;\n",
       "    }\n",
       "\n",
       "    .dataframe tbody tr th {\n",
       "        vertical-align: top;\n",
       "    }\n",
       "\n",
       "    .dataframe thead th {\n",
       "        text-align: right;\n",
       "    }\n",
       "</style>\n",
       "<table border=\"1\" class=\"dataframe\">\n",
       "  <thead>\n",
       "    <tr style=\"text-align: right;\">\n",
       "      <th></th>\n",
       "      <th>accession</th>\n",
       "      <th>completeness</th>\n",
       "      <th>is_annotated</th>\n",
       "      <th>length</th>\n",
       "      <th>protein_count</th>\n",
       "      <th>release_date</th>\n",
       "      <th>source_database</th>\n",
       "      <th>update_date</th>\n",
       "      <th>host.lineage</th>\n",
       "      <th>host.organism_name</th>\n",
       "      <th>...</th>\n",
       "      <th>submitter.affiliation</th>\n",
       "      <th>submitter.country</th>\n",
       "      <th>submitter.names</th>\n",
       "      <th>virus.lineage</th>\n",
       "      <th>virus.organism_name</th>\n",
       "      <th>virus.pangolin_classification</th>\n",
       "      <th>virus.tax_id</th>\n",
       "      <th>bioprojects</th>\n",
       "      <th>biosample</th>\n",
       "      <th>sra_accessions</th>\n",
       "    </tr>\n",
       "  </thead>\n",
       "  <tbody>\n",
       "    <tr>\n",
       "      <th>0</th>\n",
       "      <td>BS001684.1</td>\n",
       "      <td>COMPLETE</td>\n",
       "      <td>True</td>\n",
       "      <td>29800</td>\n",
       "      <td>12.0</td>\n",
       "      <td>2022-01-22T00:00:00Z</td>\n",
       "      <td>GenBank</td>\n",
       "      <td>2022-01-22T00:00:00Z</td>\n",
       "      <td>[{'name': 'cellular organisms', 'tax_id': 1315...</td>\n",
       "      <td>Homo sapiens</td>\n",
       "      <td>...</td>\n",
       "      <td>Mishima, Shizuoka 411-8540</td>\n",
       "      <td>Japan</td>\n",
       "      <td>[Nagaoka,H., Arita,Y., Ishigami,K., Mori,H., T...</td>\n",
       "      <td>[{'name': 'Viruses', 'tax_id': 10239}, {'name'...</td>\n",
       "      <td>Severe acute respiratory syndrome coronavirus 2</td>\n",
       "      <td>AY.29</td>\n",
       "      <td>2697049</td>\n",
       "      <td>NaN</td>\n",
       "      <td>NaN</td>\n",
       "      <td>NaN</td>\n",
       "    </tr>\n",
       "  </tbody>\n",
       "</table>\n",
       "<p>1 rows × 27 columns</p>\n",
       "</div>"
      ],
      "text/plain": [
       "    accession completeness is_annotated  length  protein_count  \\\n",
       "0  BS001684.1     COMPLETE         True   29800           12.0   \n",
       "\n",
       "           release_date source_database           update_date  \\\n",
       "0  2022-01-22T00:00:00Z         GenBank  2022-01-22T00:00:00Z   \n",
       "\n",
       "                                        host.lineage host.organism_name  ...  \\\n",
       "0  [{'name': 'cellular organisms', 'tax_id': 1315...       Homo sapiens  ...   \n",
       "\n",
       "        submitter.affiliation submitter.country  \\\n",
       "0  Mishima, Shizuoka 411-8540             Japan   \n",
       "\n",
       "                                     submitter.names  \\\n",
       "0  [Nagaoka,H., Arita,Y., Ishigami,K., Mori,H., T...   \n",
       "\n",
       "                                       virus.lineage  \\\n",
       "0  [{'name': 'Viruses', 'tax_id': 10239}, {'name'...   \n",
       "\n",
       "                               virus.organism_name  \\\n",
       "0  Severe acute respiratory syndrome coronavirus 2   \n",
       "\n",
       "  virus.pangolin_classification virus.tax_id bioprojects biosample  \\\n",
       "0                         AY.29      2697049         NaN       NaN   \n",
       "\n",
       "  sra_accessions  \n",
       "0            NaN  \n",
       "\n",
       "[1 rows x 27 columns]"
      ]
     },
     "execution_count": 20,
     "metadata": {},
     "output_type": "execute_result"
    }
   ],
   "source": [
    "sarscov2 = pd.json_normalize(sarscov2)\n",
    "sarscov2.head(1)"
   ]
  },
  {
   "cell_type": "code",
   "execution_count": 21,
   "metadata": {},
   "outputs": [
    {
     "data": {
      "text/plain": [
       "<Axes: xlabel='virus.pangolin_classification'>"
      ]
     },
     "execution_count": 21,
     "metadata": {},
     "output_type": "execute_result"
    },
    {
     "data": {
      "image/png": "[encoded data removed]",
      "text/plain": [
       "<Figure size 640x480 with 1 Axes>"
      ]
     },
     "metadata": {},
     "output_type": "display_data"
    }
   ],
   "source": [
    "sarscov2type = sarscov2.groupby(\"virus.pangolin_classification\").size()\n",
    "sarscov2type[sarscov2type > 100].plot(kind='bar')"
   ]
  },
  {
   "cell_type": "markdown",
   "metadata": {},
   "source": [
    "## Pokedex\n",
    "\n",
    "Wat zou een programmeeropdracht zijn zonder Pokémon? In de folder met opdrachten staat het bestand `pokedex.json` ([bron](https://github.com/Purukitto/pokemon-data.json/blob/master/pokedex.json)). Gebruik deze voor het maken van de volgende vragen.\n",
    "\n",
    "### Vraag 1.\n",
    "\n",
    "Selecteer een random Pokémon uit `pokedex.json` en toon daarvan de `hires` image."
   ]
  },
  {
   "cell_type": "code",
   "execution_count": 22,
   "metadata": {},
   "outputs": [
    {
     "data": {
      "text/html": [
       "<img src=\"https://raw.githubusercontent.com/Purukitto/pokemon-data.json/master/images/pokedex/hires/851.png\"/>"
      ],
      "text/plain": [
       "<IPython.core.display.Image object>"
      ]
     },
     "execution_count": 22,
     "metadata": {},
     "output_type": "execute_result"
    }
   ],
   "source": [
    "# Deze import heb je nodig om een plaatje te kunnen weergeven vanuit een URL\n",
    "from IPython.display import Image\n",
    "\n",
    "from random import sample\n",
    "import matplotlib.pyplot as plt\n",
    "\n",
    "with open(\"pokedex.json\", encoding='utf-8') as fh:\n",
    "    pokedex = json.load(fh)\n",
    "\n",
    "random_pokemon = sample(pokedex, 1)[0]\n",
    "# random_pokemon\n",
    "Image(url=random_pokemon[\"image\"][\"hires\"])\n"
   ]
  },
  {
   "cell_type": "markdown",
   "metadata": {},
   "source": [
    "### Vraag 2.\n",
    "\n",
    "Je wilt graag weten bij welk Level de meeste Pokémon evolueren. Maak een bar chart met daarin het aantal evoluties per Level. Toon alleen de levels waarin minimaal 5 Pokémon evolueren. Sorteer je bar chart van meeste evoluties -> minste evoluties."
   ]
  },
  {
   "cell_type": "code",
   "execution_count": 23,
   "metadata": {},
   "outputs": [
    {
     "data": {
      "text/plain": [
       "<Axes: >"
      ]
     },
     "execution_count": 23,
     "metadata": {},
     "output_type": "execute_result"
    },
    {
     "data": {
      "image/png": "[encoded data removed]",
      "text/plain": [
       "<Figure size 640x480 with 1 Axes>"
      ]
     },
     "metadata": {},
     "output_type": "display_data"
    }
   ],
   "source": [
    "with open(\"pokedex.json\", encoding='utf-8') as fh:\n",
    "    pokedex = json.load(fh)\n",
    "\n",
    "jumps = {}\n",
    "\n",
    "for pok in pokedex:\n",
    "    evolist = pok['evolution'].get(\"next\", None)\n",
    "    if evolist:\n",
    "        level = evolist[0][1]\n",
    "        try:\n",
    "            jumps[level] += 1\n",
    "        except:\n",
    "            jumps[level] = 1\n",
    "\n",
    "evolution_stages = pd.DataFrame.from_dict(data=jumps, orient='index',columns=[\"aantal\"])\n",
    "# evolution_stages.head(5)\n",
    "evolution_stages.query('aantal > 5 & index.str.startswith(\"Level\")').sort_values(by=\"aantal\", ascending=False).plot(kind=\"bar\")\n"
   ]
  }
 ],
 "metadata": {
  "kernelspec": {
   "display_name": "Python 3 (ipykernel)",
   "language": "python",
   "name": "python3"
  },
  "language_info": {
   "codemirror_mode": {
    "name": "ipython",
    "version": 3
   },
   "file_extension": ".py",
   "mimetype": "text/x-python",
   "name": "python",
   "nbconvert_exporter": "python",
   "pygments_lexer": "ipython3",
   "version": "3.11.7"
  }
 },
 "nbformat": 4,
 "nbformat_minor": 4
}
