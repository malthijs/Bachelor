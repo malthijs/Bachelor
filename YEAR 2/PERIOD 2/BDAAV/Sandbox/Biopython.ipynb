{
 "cells": [
  {
   "cell_type": "markdown",
   "id": "ca27bf27",
   "metadata": {},
   "source": [
    "# Sequence Objects"
   ]
  },
  {
   "cell_type": "code",
   "execution_count": 120,
   "id": "bc72cce6",
   "metadata": {},
   "outputs": [],
   "source": [
    "from Bio import SeqIO\n",
    "from Bio.Seq import Seq\n",
    "from Bio.SeqUtils import GC"
   ]
  },
  {
   "cell_type": "code",
   "execution_count": 121,
   "id": "7b85ad80",
   "metadata": {},
   "outputs": [
    {
     "name": "stdout",
     "output_type": "stream",
     "text": [
      "gi|2765658|emb|Z78533.1|CIZ78533\n",
      "Seq('CGTAACAAGGTTTCCGTAGGTGAACCTGCGGAAGGATCATTGATGAGACCGTGG...CGC')\n",
      "740\n"
     ]
    }
   ],
   "source": [
    "for sequence in SeqIO.parse(\"ls_orchid.fasta\", \"fasta\"):\n",
    "    print(sequence.id)\n",
    "    print(repr(sequence.seq))\n",
    "    print(len(sequence))\n",
    "    break"
   ]
  },
  {
   "cell_type": "code",
   "execution_count": 122,
   "id": "dddaba56",
   "metadata": {},
   "outputs": [
    {
     "data": {
      "text/plain": [
       "51.851851851851855"
      ]
     },
     "execution_count": 122,
     "metadata": {},
     "output_type": "execute_result"
    }
   ],
   "source": [
    "dna = Seq(\"CGTAACAAGGTTTCCGTAGGTGAACCTGCGGAAGGATCATTGATGAGACCGTGG\")\n",
    "\n",
    "dna.count(\"AA\")\n",
    "dna.count_overlap(\"AA\")\n",
    "GC(dna)"
   ]
  },
  {
   "cell_type": "code",
   "execution_count": 123,
   "id": "06dcccbb",
   "metadata": {},
   "outputs": [
    {
     "data": {
      "text/plain": [
       "Seq('CCACGGTCTCATCAATGATCCTTCCGCAGGTTCACCTACGGAAACCTTGTTACG')"
      ]
     },
     "execution_count": 123,
     "metadata": {},
     "output_type": "execute_result"
    }
   ],
   "source": [
    "dna.complement()\n",
    "dna.reverse_complement()"
   ]
  },
  {
   "cell_type": "code",
   "execution_count": 124,
   "id": "dcca5ab3",
   "metadata": {},
   "outputs": [],
   "source": [
    "mrna = dna.transcribe()\n",
    "dna = mrna.back_transcribe()"
   ]
  },
  {
   "cell_type": "code",
   "execution_count": 125,
   "id": "5feac145",
   "metadata": {},
   "outputs": [
    {
     "data": {
      "text/plain": [
       "Seq('RNKVSVGEPAEGSLMRPW')"
      ]
     },
     "execution_count": 125,
     "metadata": {},
     "output_type": "execute_result"
    }
   ],
   "source": [
    "mrna.translate()\n",
    "dna.translate()"
   ]
  },
  {
   "cell_type": "markdown",
   "id": "989f316b",
   "metadata": {},
   "source": [
    "# Sequence Annotation Objects"
   ]
  },
  {
   "cell_type": "code",
   "execution_count": 126,
   "id": "60b50913",
   "metadata": {},
   "outputs": [],
   "source": [
    "from Bio.SeqRecord import SeqRecord\n",
    "from Bio.SeqFeature import SeqFeature, FeatureLocation"
   ]
  },
  {
   "cell_type": "code",
   "execution_count": 127,
   "id": "1af91bc2",
   "metadata": {},
   "outputs": [],
   "source": [
    "sequence = Seq(\"GTGACCCCAGGTCAGGCGGGGGCACCCGCTGAGTTTACGC\")\n",
    "\n",
    "record = SeqRecord(sequence, id=\"gi|2765658|emb|Z78533.1|CIZ78533\")\n",
    "record = SeqIO.read(\"NC_005816.fna\", \"fasta\")"
   ]
  },
  {
   "cell_type": "code",
   "execution_count": 128,
   "id": "296c0b8e",
   "metadata": {},
   "outputs": [
    {
     "data": {
      "text/plain": [
       "[]"
      ]
     },
     "execution_count": 128,
     "metadata": {},
     "output_type": "execute_result"
    }
   ],
   "source": [
    "record\n",
    "record.name\n",
    "record.description\n",
    "record.dbxrefs"
   ]
  },
  {
   "cell_type": "code",
   "execution_count": 132,
   "id": "6a443ec5",
   "metadata": {},
   "outputs": [
    {
     "name": "stdout",
     "output_type": "stream",
     "text": [
      "[0:9609](+) 1 source ['taxon:229193']\n",
      "[4342:4780](+) 1 gene ['GeneID:2767712']\n",
      "[4342:4780](+) 1 CDS ['GI:45478716', 'GeneID:2767712']\n"
     ]
    }
   ],
   "source": [
    "feature = SeqFeature(FeatureLocation(5, 18, strand=-1), type=\"gene\")\n",
    "\n",
    "SNP = 4350\n",
    "for feature in SeqIO.read(\"NC_005816.gb\", \"genbank\").features:\n",
    "    if SNP in feature: \n",
    "        print(feature.location, feature.strand, feature.type, feature.qualifiers.get(\"db_xref\"))"
   ]
  },
  {
   "cell_type": "code",
   "execution_count": null,
   "id": "3f424eaf",
   "metadata": {},
   "outputs": [],
   "source": []
  }
 ],
 "metadata": {
  "kernelspec": {
   "display_name": "Python 3 (ipykernel)",
   "language": "python",
   "name": "python3"
  },
  "language_info": {
   "codemirror_mode": {
    "name": "ipython",
    "version": 3
   },
   "file_extension": ".py",
   "mimetype": "text/x-python",
   "name": "python",
   "nbconvert_exporter": "python",
   "pygments_lexer": "ipython3",
   "version": "3.11.4"
  }
 },
 "nbformat": 4,
 "nbformat_minor": 5
}
