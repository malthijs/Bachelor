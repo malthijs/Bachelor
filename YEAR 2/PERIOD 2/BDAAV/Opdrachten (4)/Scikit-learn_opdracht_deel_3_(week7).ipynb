{
 "cells": [
  {
   "cell_type": "markdown",
   "id": "790fc2f8-b2eb-41db-bd25-b05fb888c710",
   "metadata": {},
   "source": [
    "# Opdracht Regressie\n",
    "\n",
    "Laad de dataset ``data/bike_day_raw.csv``, dat de regressie target ``cnt`` bevat. Deze dataset bevat uurlijkse fietsverhuringen van een stadsfietsplatform. De kolom cnt geeft het aantal verhuringen weer dat we willen voorspellen op basis van datum- en weergegevens.\n",
    "\n",
    "Split de data in een trainings- en een testset met behulp van ``train_test_split``.\n",
    "Gebruik ``LinearRegression`` om een regressiemodel op deze data te leren. Je kunt evalueren met de ``score`` methode, die de $R^2$ waarde geeft, of gebruik de ``mean_squared_error`` functie van ``sklearn.metrics`` (of schrijf deze zelf in numpy)."
   ]
  },
  {
   "cell_type": "code",
   "execution_count": null,
   "id": "9c677c98-ade8-4476-8744-99ae7107f189",
   "metadata": {},
   "outputs": [],
   "source": []
  }
 ],
 "metadata": {
  "kernelspec": {
   "display_name": "Python 3 (ipykernel)",
   "language": "python",
   "name": "python3"
  },
  "language_info": {
   "codemirror_mode": {
    "name": "ipython",
    "version": 3
   },
   "file_extension": ".py",
   "mimetype": "text/x-python",
   "name": "python",
   "nbconvert_exporter": "python",
   "pygments_lexer": "ipython3",
   "version": "3.12.7"
  }
 },
 "nbformat": 4,
 "nbformat_minor": 5
}
