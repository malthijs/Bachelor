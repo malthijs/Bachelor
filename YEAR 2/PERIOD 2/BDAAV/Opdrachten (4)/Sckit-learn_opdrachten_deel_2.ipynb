{
 "cells": [
  {
   "cell_type": "markdown",
   "id": "c4c5e238-1faf-42c6-944b-27d77c5b0f60",
   "metadata": {},
   "source": [
    "## 3: Unsupervised learning\n",
    "We gaan nu dezelfde dataset gebruiken om een K-means clustering uit te voeren en te valideren. Bij clusterinsmethoden geef je de labels (target) niet mee. Het algoritme gaat zelf op zoek naar clusters op basis van de de features/attributen in de data.\n",
    "\n",
    "Laad eerst de data in en cluster deze met behulp van K-means. Visualiseer vervolgens de datapunten m.b.v. PCA in een scatterplot, en kleur elk punt op basis van de clusters. "
   ]
  },
  {
   "cell_type": "code",
   "execution_count": null,
   "id": "410a8812-71fd-4311-a4ce-7bf3d38315d5",
   "metadata": {},
   "outputs": [],
   "source": []
  },
  {
   "cell_type": "markdown",
   "id": "19aefabf-5112-46d3-a3b9-ccd5f22e5152",
   "metadata": {},
   "source": [
    "## 4: Preprocessing\n",
    "### Opdracht 4a: Data inladen\n",
    "Laad de \"adult\" datasets met inkomensgegevens uit de volkstelling, waarbij volwassenen worden ingedeeld in degenen die meer dan $50k per jaar verdienen tegenover degenen die minder verdienen."
   ]
  },
  {
   "cell_type": "code",
   "execution_count": null,
   "id": "588101e6-7c3f-4fa1-b81c-6950c11acd4b",
   "metadata": {},
   "outputs": [],
   "source": []
  },
  {
   "cell_type": "markdown",
   "id": "9b2015bb-4c11-4a8e-a453-31f9725eceb2",
   "metadata": {},
   "source": [
    "### Opdracht 4b: Exploratie\n",
    "\n",
    "Experimenteer met het visualiseren van de gegevens. Kun je ontdekken welke kenmerken het meest van invloed zijn op het inkomen?"
   ]
  },
  {
   "cell_type": "code",
   "execution_count": null,
   "id": "885cf67a-974c-484d-bdb5-b1fa3a68b531",
   "metadata": {},
   "outputs": [],
   "source": []
  },
  {
   "cell_type": "markdown",
   "id": "07fb77f0-78d5-4eb6-af8c-c95cb5bb9726",
   "metadata": {},
   "source": [
    "### Opdracht 4c: Encoding\n",
    "\n",
    "Split de data in een trainings- en testset. Pas dummy encoding en schaling toe. Hoe heeft dit het aantal variabelen veranderd?"
   ]
  },
  {
   "cell_type": "code",
   "execution_count": null,
   "id": "ed63bf83-cdbf-4d7f-bcc5-e5a5941164f2",
   "metadata": {},
   "outputs": [],
   "source": []
  },
  {
   "cell_type": "markdown",
   "id": "50455cd1-67ce-444c-94bd-77ed459be209",
   "metadata": {},
   "source": [
    "### Opdracht 4d: Model trainen\n",
    "\n",
    "Bouw en evalueer een LogisticRegression-model op de data."
   ]
  },
  {
   "cell_type": "code",
   "execution_count": null,
   "id": "9c540a4a-4867-43b8-ba33-19722a99b37c",
   "metadata": {},
   "outputs": [],
   "source": []
  }
 ],
 "metadata": {
  "kernelspec": {
   "display_name": "Python 3 (ipykernel)",
   "language": "python",
   "name": "python3"
  },
  "language_info": {
   "codemirror_mode": {
    "name": "ipython",
    "version": 3
   },
   "file_extension": ".py",
   "mimetype": "text/x-python",
   "name": "python",
   "nbconvert_exporter": "python",
   "pygments_lexer": "ipython3",
   "version": "3.12.5"
  }
 },
 "nbformat": 4,
 "nbformat_minor": 5
}
