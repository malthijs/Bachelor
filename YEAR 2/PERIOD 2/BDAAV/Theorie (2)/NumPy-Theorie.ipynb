{
 "cells": [
  {
   "cell_type": "markdown",
   "metadata": {},
   "source": [
    "<p STYLE=\"font-size: 20px\"><b>NumPy</b> (Numeric Python) is een package die erg nuttig is voor wiskundige scripts. De library biedt functies die gebruik maken van (multi-dimensionale) arrays. Deze hebben vele voordelen t.o.v. Python lists. Zo zijn ze compacter, sneller, gemakkelijker en efficiënter.</p>\n",
    "\n",
    "Nuttige websites:\n",
    "1. https://numpy.org/doc/stable/\n",
    "2. https://numpy.org/doc/stable/reference/\n",
    "3. https://www.datacamp.com/community/tutorials/python-numpy-tutorial\n",
    "\n",
    "Simpele demonstratie waarom **NumPy** veel handiger *en* sneller is dan standaard Python. \n",
    "(Dit voorbeeld kan je makkelijk zelf uitvoeren - leuk om te proberen na deze les!):\n",
    "* http://zwmiller.com/blogs/why_numpy_is_so_great.html\n",
    "\n",
    "<img src=\"arrays.png\" align=\"left\">"
   ]
  },
  {
   "cell_type": "markdown",
   "metadata": {},
   "source": [
    "# 1D array"
   ]
  },
  {
   "cell_type": "code",
   "execution_count": 1,
   "metadata": {},
   "outputs": [
    {
     "name": "stdout",
     "output_type": "stream",
     "text": [
      "array1: [ 7  2  9 10]\n",
      "array2: [2 3 4 5]\n",
      "a1*a2: [14  6 36 50]\n",
      "Aantal dimensies array1: 1\n",
      "Shape array1: (4,)\n",
      "Size array1: 4\n",
      "Som, min en max van array1: 28 2 10\n",
      "a1[2] => 9\n",
      "a1[:2] => [7 2]\n",
      "a1[2:] => [ 9 10]\n"
     ]
    }
   ],
   "source": [
    "import numpy as np\n",
    "\n",
    "a1 = np.array([7,2,9,10])\n",
    "a2 = np.array([2,3,4,5])\n",
    "print (\"array1:\", a1)\n",
    "print (\"array2:\", a2)\n",
    "print (\"a1*a2:\", a1*a2)\n",
    "print (\"Aantal dimensies array1:\", a1.ndim)\n",
    "print (\"Shape array1:\", a1.shape)\n",
    "print (\"Size array1:\", a1.size)\n",
    "print (\"Som, min en max van array1:\", a1.sum(), a1.min(), a1.max())\n",
    "print (\"a1[2] =>\", a1[2])\n",
    "print (\"a1[:2] =>\", a1[:2])\n",
    "print (\"a1[2:] =>\", a1[2:])"
   ]
  },
  {
   "cell_type": "markdown",
   "metadata": {},
   "source": [
    "# 2D array"
   ]
  },
  {
   "cell_type": "code",
   "execution_count": 2,
   "metadata": {},
   "outputs": [
    {
     "name": "stdout",
     "output_type": "stream",
     "text": [
      "Aantal dimensies array3: 2\n",
      "Shape array3: (2, 3)\n",
      "Size array3: 6\n",
      "Dtype array3: float64\n",
      "a3[1,2] => 0.3\n",
      "a3[1,:2] => [9.1 0.1]\n",
      "a3[:,:2] => [[5.2 3. ]\n",
      " [9.1 0.1]]\n",
      "Maximum per rij: [5.2 9.1]\n",
      "Maximum per kolom: [9.1 3.  4.5]\n",
      "Som per rij: [12.7  9.5]\n",
      "Element: 5.2\n",
      "Element: 3.0\n",
      "Element: 4.5\n",
      "Element: 9.1\n",
      "Element: 0.1\n",
      "Element: 0.3\n"
     ]
    }
   ],
   "source": [
    "a3 = np.array([[5.2, 3.0, 4.5],\n",
    "               [9.1, 0.1, 0.3]])\n",
    "print (\"Aantal dimensies array3:\", a3.ndim)\n",
    "print (\"Shape array3:\", a3.shape) #2 rijen, 3 kolommen\n",
    "print (\"Size array3:\", a3.size)\n",
    "print (\"Dtype array3:\", a3.dtype)\n",
    "print (\"a3[1,2] =>\", a3[1,2])\n",
    "print (\"a3[1,:2] =>\", a3[1,:2])\n",
    "print (\"a3[:,:2] =>\", a3[:,:2])\n",
    "\n",
    "#Een for-loop is niet heel gebruikelijk; er zijn vaak betere/snellere alternatieven\n",
    "#for row in a3:\n",
    "#    print (\"Rij max:\",row.max())\n",
    "\n",
    "#Alternatief voor het maximum per rij:\n",
    "print(\"Maximum per rij:\", a3.max(axis=1))\n",
    "\n",
    "#Of het maximum per kolom:\n",
    "print(\"Maximum per kolom:\", a3.max(axis=0))\n",
    "\n",
    "#Of de som per rij:\n",
    "print(\"Som per rij:\", a3.sum(axis=1))\n",
    "\n",
    "#Loopen door elementen\n",
    "for element in a3.flat:\n",
    "    print (\"Element:\", element)\n"
   ]
  },
  {
   "cell_type": "markdown",
   "metadata": {},
   "source": [
    "# 3D array"
   ]
  },
  {
   "cell_type": "code",
   "execution_count": 3,
   "metadata": {},
   "outputs": [
    {
     "name": "stdout",
     "output_type": "stream",
     "text": [
      "Aantal dimensies array4: 3\n",
      "Shape array4: (4, 3, 2)\n",
      "Size array4: 24\n",
      "a4[2,1,0] => 3\n"
     ]
    }
   ],
   "source": [
    "# 3D array\n",
    "a4 = np.array([[[1,2], [4,3], [7,4]],\n",
    "               [[2,3], [9,6], [7,5]],\n",
    "               [[1,5], [3,4], [0,2]],\n",
    "               [[9,4], [6,5], [9,8]]])\n",
    "print (\"Aantal dimensies array4:\", a4.ndim)\n",
    "print (\"Shape array4:\", a4.shape) #4 rijen, 3 kolommen, diepte=2\n",
    "print (\"Size array4:\", a4.size)\n",
    "print (\"a4[2,1,0] =>\", a4[2,1,0])\n"
   ]
  },
  {
   "cell_type": "markdown",
   "metadata": {},
   "source": [
    "# Aanmaken verschillende arrays"
   ]
  },
  {
   "cell_type": "code",
   "execution_count": 4,
   "metadata": {},
   "outputs": [
    {
     "name": "stdout",
     "output_type": "stream",
     "text": [
      "a5: [10 12 14 16 18]\n",
      "a6: [[0 0 0 0]\n",
      " [0 0 0 0]\n",
      " [0 0 0 0]]\n",
      "a6: [[2 2 2 2]\n",
      " [2 2 2 2]\n",
      " [2 2 2 2]]\n",
      "a6: [[2 2 2 2]\n",
      " [2 2 2 2]\n",
      " [2 2 2 2]]\n",
      "a7: [[0.44309926 0.80662384 0.65800224]\n",
      " [0.54349764 0.45162253 0.83391361]]\n",
      "a8: [[7 7]\n",
      " [7 2]\n",
      " [1 7]]\n"
     ]
    }
   ],
   "source": [
    "# Een array met range van 10 tot 20 met stapgrootte 2\n",
    "a5 = np.arange(10, 20, 2)\n",
    "print (\"a5:\", a5)\n",
    "\n",
    "# Een array met 3 rijen en 4 kolommen met nullen\n",
    "a6 = np.zeros((3,4),dtype=np.int16)\n",
    "print (\"a6:\", a6)\n",
    "# Bij elk element 2 bij optellen\n",
    "a6 += 2\n",
    "print (\"a6:\", a6)\n",
    "# Optellen bij aanmaak array\n",
    "a6 = np.zeros((3,4),dtype=np.int16) + 2\n",
    "print (\"a6:\", a6)\n",
    "\n",
    "# Random arrays\n",
    "a7 = np.random.random((2,3)) # 2 rijen en 3 kolommen\n",
    "print (\"a7:\", a7)\n",
    "a8 = np.random.randint(1, 10, size=(3,2)) # 3 rijen en 2 kolommen\n",
    "print (\"a8:\", a8)"
   ]
  },
  {
   "cell_type": "markdown",
   "metadata": {},
   "source": [
    "# Bestand als input voor arrays"
   ]
  },
  {
   "cell_type": "code",
   "execution_count": 5,
   "metadata": {},
   "outputs": [
    {
     "name": "stdout",
     "output_type": "stream",
     "text": [
      "a9: [[0.2536 0.1008 0.3857]\n",
      " [0.4839 0.4536 0.3561]\n",
      " [0.1292 0.6875 0.5929]\n",
      " [0.1781 0.3049 0.8928]\n",
      " [0.6253 0.3486 0.8791]]\n",
      "a10: [[0.2536 0.3857]\n",
      " [0.4839 0.3561]\n",
      " [0.1292 0.5929]\n",
      " [0.1781 0.8928]\n",
      " [0.6253 0.8791]]\n"
     ]
    }
   ],
   "source": [
    "a9 = np.loadtxt('data.txt', skiprows=1)\n",
    "print (\"a9:\", a9)\n",
    "a10 = np.loadtxt('data.txt', skiprows=1, usecols=(0,2))\n",
    "print (\"a10:\", a10)"
   ]
  },
  {
   "cell_type": "markdown",
   "metadata": {},
   "source": [
    "# Reshape, transpose en stack"
   ]
  },
  {
   "cell_type": "code",
   "execution_count": 6,
   "metadata": {},
   "outputs": [
    {
     "name": "stdout",
     "output_type": "stream",
     "text": [
      "a11: [ 0  1  2  3  4  5  6  7  8  9 10 11 12 13 14 15 16 17 18 19 20 21 22 23\n",
      " 24 25 26 27 28 29 30 31 32 33 34 35 36 37 38 39 40 41 42 43 44 45 46 47\n",
      " 48 49 50 51 52 53 54 55 56 57 58 59 60 61 62 63 64 65 66 67 68 69 70 71\n",
      " 72 73 74 75 76 77 78 79 80 81 82 83 84 85 86 87 88 89 90 91 92 93 94 95\n",
      " 96 97 98 99] (100,)\n",
      "a11 reshape: [[ 0  1  2  3  4]\n",
      " [ 5  6  7  8  9]\n",
      " [10 11 12 13 14]\n",
      " [15 16 17 18 19]\n",
      " [20 21 22 23 24]\n",
      " [25 26 27 28 29]\n",
      " [30 31 32 33 34]\n",
      " [35 36 37 38 39]\n",
      " [40 41 42 43 44]\n",
      " [45 46 47 48 49]\n",
      " [50 51 52 53 54]\n",
      " [55 56 57 58 59]\n",
      " [60 61 62 63 64]\n",
      " [65 66 67 68 69]\n",
      " [70 71 72 73 74]\n",
      " [75 76 77 78 79]\n",
      " [80 81 82 83 84]\n",
      " [85 86 87 88 89]\n",
      " [90 91 92 93 94]\n",
      " [95 96 97 98 99]] (20, 5)\n",
      "a12 transpose: [[ 0  5 10 15 20 25 30 35 40 45 50 55 60 65 70 75 80 85 90 95]\n",
      " [ 1  6 11 16 21 26 31 36 41 46 51 56 61 66 71 76 81 86 91 96]\n",
      " [ 2  7 12 17 22 27 32 37 42 47 52 57 62 67 72 77 82 87 92 97]\n",
      " [ 3  8 13 18 23 28 33 38 43 48 53 58 63 68 73 78 83 88 93 98]\n",
      " [ 4  9 14 19 24 29 34 39 44 49 54 59 64 69 74 79 84 89 94 99]] (20, 5)\n",
      "a13: [[0.08498054 0.75270767]\n",
      " [0.64929995 0.63116273]]\n",
      "a14: [[0.19413685 0.50989304]\n",
      " [0.97894119 0.72970992]]\n",
      "a15 hstack: [[0.08498054 0.75270767 0.19413685 0.50989304]\n",
      " [0.64929995 0.63116273 0.97894119 0.72970992]] (2, 4)\n",
      "a14 vstack: [[0.08498054 0.75270767]\n",
      " [0.64929995 0.63116273]\n",
      " [0.19413685 0.50989304]\n",
      " [0.97894119 0.72970992]] (4, 2)\n"
     ]
    }
   ],
   "source": [
    "# Reshape van 1D naar 2D-array met 20 rijen\n",
    "a11 = np.arange(100)\n",
    "print (\"a11:\", a11, a11.shape)\n",
    "a11 = a11.reshape(20, 5)\n",
    "#of:\n",
    "#a11 = a11.reshape(20,-1)\n",
    "print (\"a11 reshape:\", a11, a11.shape)\n",
    "\n",
    "# Transpose\n",
    "a12 = a11.T\n",
    "print (\"a12 transpose:\", a12, a12.T.shape)\n",
    "\n",
    "# Stack\n",
    "a13 = np.random.random((2,2))\n",
    "print (\"a13:\", a13)\n",
    "a14 = np.random.random((2,2))\n",
    "print (\"a14:\", a14)\n",
    "a15 = np.hstack((a13,a14))\n",
    "print (\"a15 hstack:\", a15, a15.shape)\n",
    "a16 = np.vstack((a13,a14))\n",
    "print (\"a14 vstack:\", a16, a16.shape)\n"
   ]
  },
  {
   "cell_type": "markdown",
   "metadata": {},
   "source": [
    "# Indexing en boolean masking"
   ]
  },
  {
   "cell_type": "code",
   "execution_count": 7,
   "metadata": {},
   "outputs": [
    {
     "name": "stdout",
     "output_type": "stream",
     "text": [
      "['a' 'b' 'c' 'd' 'e']\n",
      "['b' 'a' 'b' 'c' 'e' 'd' 'e' 'c' 'a']\n",
      "[[48 13 37 37 57]\n",
      " [41 89 58 41 13]\n",
      " [52 87 35 87 70]\n",
      " [48 50 75 78 59]\n",
      " [10 41 42 51 66]]\n",
      "[[False False False False False]\n",
      " [False  True False False False]\n",
      " [False  True False  True False]\n",
      " [False False  True  True False]\n",
      " [False False False False False]]\n",
      "[89 87 87 75 78]\n"
     ]
    }
   ],
   "source": [
    "# Indexing\n",
    "a17 = np.array([\"a\", \"b\", \"c\", \"d\", \"e\"])\n",
    "print (a17)\n",
    "indices = np.array([1, 0, 1, 2, 4, 3, 4, 2, 0])\n",
    "print (a17[indices])\n",
    "\n",
    "a18 = np.random.randint(1, 100, size=(5,5))\n",
    "print(a18)\n",
    "#welke zijn groter dan 70?\n",
    "mask = a18 > 70 #array van True/False waarden\n",
    "print(mask)\n",
    "print(a18[mask]) #mask wordt gebruikt om nieuwe (1D) array te genereren"
   ]
  }
 ],
 "metadata": {
  "kernelspec": {
   "display_name": "Python 3 (ipykernel)",
   "language": "python",
   "name": "python3"
  },
  "language_info": {
   "codemirror_mode": {
    "name": "ipython",
    "version": 3
   },
   "file_extension": ".py",
   "mimetype": "text/x-python",
   "name": "python",
   "nbconvert_exporter": "python",
   "pygments_lexer": "ipython3",
   "version": "3.12.7"
  }
 },
 "nbformat": 4,
 "nbformat_minor": 4
}
